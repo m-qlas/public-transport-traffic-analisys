{
 "cells": [
  {
   "cell_type": "markdown",
   "metadata": {
    "ExecuteTime": {
     "end_time": "2021-05-03T09:54:54.548362Z",
     "start_time": "2021-05-03T09:54:54.544824Z"
    }
   },
   "source": [
    "# Import wymaganych bibliotek"
   ]
  },
  {
   "cell_type": "code",
   "execution_count": 1,
   "metadata": {
    "ExecuteTime": {
     "end_time": "2021-05-31T20:09:28.977608Z",
     "start_time": "2021-05-31T20:09:28.966182Z"
    }
   },
   "outputs": [
    {
     "data": {
      "text/html": [
       "<style>.container { width:95% !important; }</style>"
      ],
      "text/plain": [
       "<IPython.core.display.HTML object>"
      ]
     },
     "metadata": {},
     "output_type": "display_data"
    }
   ],
   "source": [
    "from IPython.core.display import display, HTML\n",
    "display(HTML(\"<style>.container { width:95% !important; }</style>\"))"
   ]
  },
  {
   "cell_type": "code",
   "execution_count": 2,
   "metadata": {
    "ExecuteTime": {
     "end_time": "2021-05-31T20:09:29.608218Z",
     "start_time": "2021-05-31T20:09:29.454001Z"
    }
   },
   "outputs": [],
   "source": [
    "from urllib.request import urlopen \n",
    "from pyspark.sql import SparkSession, Row\n",
    "from pyspark.sql import SQLContext\n",
    "from pyspark.sql import functions as f\n",
    "from collections import OrderedDict\n",
    "import json\n",
    "import requests\n",
    "import numpy\n",
    "from datetime import datetime"
   ]
  },
  {
   "cell_type": "code",
   "execution_count": 3,
   "metadata": {
    "ExecuteTime": {
     "end_time": "2021-05-31T20:09:34.211509Z",
     "start_time": "2021-05-31T20:09:29.885255Z"
    }
   },
   "outputs": [],
   "source": [
    "spark = SparkSession.builder.appName(\"Analysis\").getOrCreate()\n",
    "sc = spark.sparkContext"
   ]
  },
  {
   "cell_type": "code",
   "execution_count": 4,
   "metadata": {
    "ExecuteTime": {
     "end_time": "2021-05-31T20:09:34.225319Z",
     "start_time": "2021-05-31T20:09:34.213157Z"
    },
    "scrolled": true
   },
   "outputs": [
    {
     "data": {
      "text/plain": [
       "'http://10.0.2.15:4040'"
      ]
     },
     "execution_count": 4,
     "metadata": {},
     "output_type": "execute_result"
    }
   ],
   "source": [
    "sc.uiWebUrl"
   ]
  },
  {
   "cell_type": "markdown",
   "metadata": {},
   "source": [
    "# Deklaracja potrzebnych funkcji"
   ]
  },
  {
   "cell_type": "code",
   "execution_count": 5,
   "metadata": {
    "ExecuteTime": {
     "end_time": "2021-05-31T20:09:36.930444Z",
     "start_time": "2021-05-31T20:09:36.926778Z"
    }
   },
   "outputs": [],
   "source": [
    "def convert_to_row(d: dict) -> Row:\n",
    "    return Row(**OrderedDict(d.items()))\n",
    "#     return Row(**OrderedDict(sorted(d.items())))"
   ]
  },
  {
   "cell_type": "markdown",
   "metadata": {},
   "source": [
    "Ogólna funkcja zwracająca RDD lub DF dla URL podanego jako argument"
   ]
  },
  {
   "cell_type": "code",
   "execution_count": 6,
   "metadata": {
    "ExecuteTime": {
     "end_time": "2021-05-31T20:09:38.979271Z",
     "start_time": "2021-05-31T20:09:38.973248Z"
    }
   },
   "outputs": [],
   "source": [
    "def get_data_from_ztm(url, resDf):\n",
    "    response = urlopen(url)\n",
    "    string_obj = response.read().decode('utf-8')\n",
    "    dict_obj = json.loads(string_obj)\n",
    "    \n",
    "    l1 = dict_obj.get('result')\n",
    "    l2 = list()\n",
    "    l3 = list()\n",
    "    d1 = dict()\n",
    "\n",
    "    for v in l1:\n",
    "        l2.append(v.get('values'))\n",
    "\n",
    "    for v2 in l2:\n",
    "        for elem in v2:\n",
    "            d1[elem['key']] = elem['value']\n",
    "        l3.append(d1.copy())\n",
    "        \n",
    "    rdd = spark.sparkContext.parallelize(l3)\n",
    "    df = rdd.map(convert_to_row).toDF()\n",
    "    \n",
    "    if resDf:\n",
    "        return df\n",
    "    else:\n",
    "        return rdd"
   ]
  },
  {
   "cell_type": "markdown",
   "metadata": {},
   "source": [
    "Funkcja zwracająca RDD lub DF z przystankami"
   ]
  },
  {
   "cell_type": "code",
   "execution_count": 7,
   "metadata": {
    "ExecuteTime": {
     "end_time": "2021-05-31T20:09:40.674143Z",
     "start_time": "2021-05-31T20:09:40.668014Z"
    }
   },
   "outputs": [],
   "source": [
    "def get_bus_stops_ZTM(resDf):\n",
    "    \n",
    "    url = 'https://api.um.warszawa.pl/api/action/dbstore_get/?id=ab75c33d-3a26-4342-b36a-6e5fef0a3ac3&apikey=a9ee09f1-6975-46fc-ae46-df9b805ab6f6'\n",
    "    response = urlopen(url)\n",
    "    string_obj = response.read().decode('utf-8')\n",
    "    dict_obj = json.loads(string_obj)\n",
    "    \n",
    "    l1= dict_obj.get('result')\n",
    "    l2 = list()\n",
    "    l3 = list()\n",
    "    d1 = dict()\n",
    "\n",
    "    for v in l1:\n",
    "        l2.append(v.get('values'))\n",
    "\n",
    "    for v2 in l2:\n",
    "        for elem in v2:\n",
    "            d1[elem['key']] = elem['value']\n",
    "        l3.append(d1.copy())\n",
    "        \n",
    "    rdd = spark.sparkContext.parallelize(l3).map(convert_to_row)\n",
    "    df = rdd.toDF()\n",
    "    \n",
    "    if resDf:\n",
    "        return df\n",
    "    else:\n",
    "        return rdd\n",
    "    "
   ]
  },
  {
   "cell_type": "markdown",
   "metadata": {},
   "source": [
    "Pobranie linii autobusowych dostępnych na przystanku"
   ]
  },
  {
   "cell_type": "code",
   "execution_count": 8,
   "metadata": {
    "ExecuteTime": {
     "end_time": "2021-05-31T20:09:42.642703Z",
     "start_time": "2021-05-31T20:09:42.636594Z"
    }
   },
   "outputs": [],
   "source": [
    "def get_lines_on_bus_stop(busstopId, busstopNr):\n",
    "    url = 'https://api.um.warszawa.pl/api/action/dbtimetable_get/?id=88cd555f-6f31-43ca-9de4-66c479ad5942&busstopId=' + busstopId + '&busstopNr=' + busstopNr + '&apikey=a9ee09f1-6975-46fc-ae46-df9b805ab6f6'\n",
    "    response = urlopen(url)\n",
    "    string_obj = response.read().decode('utf-8')\n",
    "    dict_obj = json.loads(string_obj)\n",
    "    \n",
    "    l1= dict_obj.get('result')\n",
    "    l2 = list()\n",
    "    l3 = list()\n",
    "    d1 = dict()\n",
    "\n",
    "    for v in l1:\n",
    "        l2.append(v.get('values'))\n",
    "\n",
    "    for v2 in l2:\n",
    "        for elem in v2:\n",
    "            d1[elem['key']] = elem['value']\n",
    "        l3.append(d1.copy())\n",
    "    \n",
    "#     rdd = spark.sparkContext.parallelize(l3)#.map(convert_to_row)\n",
    "    arr = numpy.array(l3)\n",
    "    \n",
    "    return arr"
   ]
  },
  {
   "cell_type": "markdown",
   "metadata": {
    "ExecuteTime": {
     "end_time": "2021-05-13T20:33:13.766321Z",
     "start_time": "2021-05-13T20:30:00.651Z"
    }
   },
   "source": [
    "Pobranie rozkładu jazdy linii na przystanku"
   ]
  },
  {
   "cell_type": "code",
   "execution_count": 9,
   "metadata": {
    "ExecuteTime": {
     "end_time": "2021-05-31T20:09:44.362507Z",
     "start_time": "2021-05-31T20:09:44.356962Z"
    }
   },
   "outputs": [],
   "source": [
    "def get_schedule_of_line(busstopId, busstopNr, line):\n",
    "    url = 'https://api.um.warszawa.pl/api/action/dbtimetable_get/?id=e923fa0e-d96c-43f9-ae6e-60518c9f3238&busstopId=' + busstopId + '&busstopNr=' + busstopNr + '&line=' + line + '&apikey=a9ee09f1-6975-46fc-ae46-df9b805ab6f6'\n",
    "    response = urlopen(url)\n",
    "    string_obj = response.read().decode('utf-8')\n",
    "    dict_obj = json.loads(string_obj)\n",
    "    \n",
    "    l1= dict_obj.get('result')\n",
    "    l2 = list()\n",
    "    l3 = list()\n",
    "    d1 = dict()\n",
    "\n",
    "    for v in l1:\n",
    "        l2.append(v.get('values'))\n",
    "\n",
    "    for v2 in l2:\n",
    "        for elem in v2:\n",
    "            d1[elem['key']] = elem['value']\n",
    "        l3.append(d1.copy())\n",
    "    \n",
    "#     rdd = spark.sparkContext.parallelize(l3)#.map(convert_to_row)\n",
    "    arr = numpy.array(l3)\n",
    "    \n",
    "    return arr"
   ]
  },
  {
   "cell_type": "markdown",
   "metadata": {},
   "source": [
    "Konwersja daty na wymagany format"
   ]
  },
  {
   "cell_type": "code",
   "execution_count": 10,
   "metadata": {
    "ExecuteTime": {
     "end_time": "2021-05-31T20:09:46.231648Z",
     "start_time": "2021-05-31T20:09:46.220872Z"
    }
   },
   "outputs": [
    {
     "data": {
      "text/plain": [
       "datetime.datetime(2021, 5, 31, 14, 54)"
      ]
     },
     "execution_count": 10,
     "metadata": {},
     "output_type": "execute_result"
    }
   ],
   "source": [
    "test = '14:54:00'\n",
    "def convDateTime(x):\n",
    "    strDT =  f\"{datetime.strftime(datetime.date(datetime.now()),'%Y-%m-%d')} {x}\" \n",
    "    \n",
    "    tmpMonth = int(strDT[5:7])\n",
    "    tmpDay = int(strDT[8:10])\n",
    "    tmpHour = int(strDT[11:13])\n",
    "        \n",
    "    if tmpHour != 24:\n",
    "        return datetime.strptime(strDT,'%Y-%m-%d %H:%M:%S')\n",
    "    else:\n",
    "        newHour = '00'\n",
    "        newDay = str(tmpDay + 1)\n",
    "        if newDay != '32':\n",
    "            resStr = strDT[:8] + newDay + strDT[10:11] + newHour + strDT[13:]\n",
    "        else:\n",
    "            newDay = '01'\n",
    "            newMonth = str(tmpMonth + 1)\n",
    "            resStr = strDT[:5] + newMonth + strDT[7:8] + newDay + strDT[10:11] + newHour + strDT[13:]\n",
    "            \n",
    "        return datetime.strptime(resStr,'%Y-%m-%d %H:%M:%S')\n",
    "    \n",
    "    \n",
    "convDateTime(test)"
   ]
  },
  {
   "cell_type": "markdown",
   "metadata": {},
   "source": [
    "Wyliczenie liczby sekund od 01.01.1970"
   ]
  },
  {
   "cell_type": "code",
   "execution_count": 11,
   "metadata": {
    "ExecuteTime": {
     "end_time": "2021-05-31T20:09:47.759976Z",
     "start_time": "2021-05-31T20:09:47.756304Z"
    }
   },
   "outputs": [],
   "source": [
    "def secsFrom1970(x):\n",
    "    epoch = datetime.utcfromtimestamp(0)\n",
    "    return (x - epoch).total_seconds()"
   ]
  },
  {
   "cell_type": "markdown",
   "metadata": {},
   "source": [
    "# Pobranie współrzędnych przystanków "
   ]
  },
  {
   "cell_type": "code",
   "execution_count": 12,
   "metadata": {
    "ExecuteTime": {
     "end_time": "2021-05-31T20:10:00.074812Z",
     "start_time": "2021-05-31T20:09:52.964464Z"
    }
   },
   "outputs": [],
   "source": [
    "# url = 'https://api.um.warszawa.pl/api/action/dbstore_get/?id=ab75c33d-3a26-4342-b36a-6e5fef0a3ac3&apikey=a9ee09f1-6975-46fc-ae46-df9b805ab6f6'\n",
    "df_busStops = get_bus_stops_ZTM(True)\n",
    "df_busStops = df_busStops.drop('id_ulicy', 'obowiazuje_od')"
   ]
  },
  {
   "cell_type": "markdown",
   "metadata": {
    "ExecuteTime": {
     "end_time": "2021-05-06T21:40:20.016982Z",
     "start_time": "2021-05-06T21:40:20.013923Z"
    },
    "heading_collapsed": true
   },
   "source": [
    "## Wyszukiwanie po nazwie przystanku"
   ]
  },
  {
   "cell_type": "code",
   "execution_count": null,
   "metadata": {
    "ExecuteTime": {
     "end_time": "2021-05-07T10:45:07.857785Z",
     "start_time": "2021-05-07T10:45:06.623244Z"
    },
    "hidden": true
   },
   "outputs": [],
   "source": [
    "df_bus.filter(df_bus.nazwa_zespolu=='Kazubów').show()"
   ]
  },
  {
   "cell_type": "code",
   "execution_count": null,
   "metadata": {
    "ExecuteTime": {
     "end_time": "2021-05-07T10:45:07.873236Z",
     "start_time": "2021-05-07T10:45:07.861403Z"
    },
    "hidden": true
   },
   "outputs": [],
   "source": [
    "df_bus.dtypes"
   ]
  },
  {
   "cell_type": "markdown",
   "metadata": {
    "ExecuteTime": {
     "end_time": "2021-05-17T21:18:58.282576Z",
     "start_time": "2021-05-17T21:18:58.279842Z"
    },
    "heading_collapsed": true
   },
   "source": [
    "# Pobranie danych do ewentualnej analizy (opcjonalne)"
   ]
  },
  {
   "cell_type": "markdown",
   "metadata": {
    "ExecuteTime": {
     "end_time": "2021-05-03T20:31:07.687696Z",
     "start_time": "2021-05-03T20:31:07.684790Z"
    },
    "heading_collapsed": true,
    "hidden": true
   },
   "source": [
    "## Pobranie linii dostępnych na danym przystanku"
   ]
  },
  {
   "cell_type": "code",
   "execution_count": null,
   "metadata": {
    "ExecuteTime": {
     "end_time": "2021-05-07T12:34:19.848524Z",
     "start_time": "2021-05-07T12:34:19.061563Z"
    },
    "hidden": true
   },
   "outputs": [],
   "source": [
    "busstopId = '1001'\n",
    "busstopNr = '01'\n",
    "url = 'https://api.um.warszawa.pl/api/action/dbtimetable_get/?id=88cd555f-6f31-43ca-9de4-66c479ad5942&busstopId=' + busstopId + '&busstopNr=' + busstopNr + '&apikey=a9ee09f1-6975-46fc-ae46-df9b805ab6f6'\n",
    "df_lines = get_data_from_ztm(url, True)\n",
    "df_lines.show()"
   ]
  },
  {
   "cell_type": "markdown",
   "metadata": {
    "hidden": true
   },
   "source": [
    "## Pobranie rozkładu jazdy linii na przystanku"
   ]
  },
  {
   "cell_type": "code",
   "execution_count": 17,
   "metadata": {
    "ExecuteTime": {
     "end_time": "2021-05-17T21:35:51.112815Z",
     "start_time": "2021-05-17T21:35:49.996857Z"
    },
    "hidden": true
   },
   "outputs": [
    {
     "name": "stdout",
     "output_type": "stream",
     "text": [
      "+-------+---------------+------+--------+\n",
      "|brygada|       kierunek| trasa|    czas|\n",
      "+-------+---------------+------+--------+\n",
      "|    284|Wola Grzybowska|TP-ZOL|24:03:00|\n",
      "|    185|Wola Grzybowska|TP-ZOL|25:03:00|\n",
      "|    284|Wola Grzybowska|TP-ZOL|26:03:00|\n",
      "|    185|Wola Grzybowska|TP-ZOL|27:03:00|\n",
      "+-------+---------------+------+--------+\n",
      "\n"
     ]
    }
   ],
   "source": [
    "busstopId = '1001'\n",
    "busstopNr = '01'\n",
    "line = 'N71'\n",
    "url = 'https://api.um.warszawa.pl/api/action/dbtimetable_get/?id=e923fa0e-d96c-43f9-ae6e-60518c9f3238&busstopId=' + busstopId + '&busstopNr=' + busstopNr + '&line=' + line + '&apikey=a9ee09f1-6975-46fc-ae46-df9b805ab6f6'\n",
    "df_line = get_data_from_ztm(url, True)\n",
    "df_line = df_line.drop('symbol_2', 'symbol_1')\n",
    "df_line.show()"
   ]
  },
  {
   "cell_type": "code",
   "execution_count": null,
   "metadata": {
    "ExecuteTime": {
     "end_time": "2021-05-07T12:35:34.590412Z",
     "start_time": "2021-05-07T12:35:34.474729Z"
    },
    "hidden": true
   },
   "outputs": [],
   "source": [
    "df_line.count()"
   ]
  },
  {
   "cell_type": "markdown",
   "metadata": {},
   "source": [
    "# Pobranie rozkładów jazdy linii na przystankach"
   ]
  },
  {
   "cell_type": "markdown",
   "metadata": {},
   "source": [
    "## Pobranie i przygotowanie listy przystanków"
   ]
  },
  {
   "cell_type": "code",
   "execution_count": 13,
   "metadata": {
    "ExecuteTime": {
     "end_time": "2021-05-31T20:10:09.484404Z",
     "start_time": "2021-05-31T20:10:04.748537Z"
    }
   },
   "outputs": [],
   "source": [
    "url = 'https://api.um.warszawa.pl/api/action/dbstore_get/?id=ab75c33d-3a26-4342-b36a-6e5fef0a3ac3&apikey=a9ee09f1-6975-46fc-ae46-df9b805ab6f6'\n",
    "df1 = get_data_from_ztm(url, True)"
   ]
  },
  {
   "cell_type": "code",
   "execution_count": 14,
   "metadata": {
    "ExecuteTime": {
     "end_time": "2021-05-31T20:10:09.543071Z",
     "start_time": "2021-05-31T20:10:09.485975Z"
    }
   },
   "outputs": [],
   "source": [
    "df1 = df1.select('zespol', 'slupek')"
   ]
  },
  {
   "cell_type": "code",
   "execution_count": 15,
   "metadata": {
    "ExecuteTime": {
     "end_time": "2021-05-31T20:10:12.275905Z",
     "start_time": "2021-05-31T20:10:11.203514Z"
    }
   },
   "outputs": [
    {
     "data": {
      "text/plain": [
       "[['1001', '01'],\n",
       " ['1001', '02'],\n",
       " ['1001', '03'],\n",
       " ['1001', '04'],\n",
       " ['1001', '05']]"
      ]
     },
     "execution_count": 15,
     "metadata": {},
     "output_type": "execute_result"
    }
   ],
   "source": [
    "rdd1 = df1.rdd.map(list)\n",
    "rdd1.take(5)"
   ]
  },
  {
   "cell_type": "markdown",
   "metadata": {},
   "source": [
    "## Pobranie listy dostępnych linii dla każdego przystanku i dołączenie do DF "
   ]
  },
  {
   "cell_type": "code",
   "execution_count": 16,
   "metadata": {
    "ExecuteTime": {
     "end_time": "2021-05-31T20:10:16.065212Z",
     "start_time": "2021-05-31T20:10:14.500299Z"
    }
   },
   "outputs": [
    {
     "data": {
      "text/plain": [
       "[[['1001', '01', '123'],\n",
       "  ['1001', '01', '125'],\n",
       "  ['1001', '01', '138'],\n",
       "  ['1001', '01', '146'],\n",
       "  ['1001', '01', '147'],\n",
       "  ['1001', '01', '166'],\n",
       "  ['1001', '01', '202'],\n",
       "  ['1001', '01', '509'],\n",
       "  ['1001', '01', '902'],\n",
       "  ['1001', '01', 'N02'],\n",
       "  ['1001', '01', 'N03'],\n",
       "  ['1001', '01', 'N21'],\n",
       "  ['1001', '01', 'N71']],\n",
       " [['1001', '02', '138'],\n",
       "  ['1001', '02', '166'],\n",
       "  ['1001', '02', '509'],\n",
       "  ['1001', '02', 'N21']]]"
      ]
     },
     "execution_count": 16,
     "metadata": {},
     "output_type": "execute_result"
    }
   ],
   "source": [
    "rdd2 = rdd1.map(lambda x: [[x[0], x[1], line['linia']] for line in get_lines_on_bus_stop(x[0], x[1])])\n",
    "rdd2.take(2)"
   ]
  },
  {
   "cell_type": "code",
   "execution_count": 17,
   "metadata": {
    "ExecuteTime": {
     "end_time": "2021-05-31T20:10:17.991623Z",
     "start_time": "2021-05-31T20:10:17.227948Z"
    }
   },
   "outputs": [
    {
     "data": {
      "text/plain": [
       "[['1001', '01', '123'], ['1001', '01', '125']]"
      ]
     },
     "execution_count": 17,
     "metadata": {},
     "output_type": "execute_result"
    }
   ],
   "source": [
    "rdd2 = rdd2.flatMap(lambda x: x)\n",
    "rdd2.take(2)"
   ]
  },
  {
   "cell_type": "code",
   "execution_count": 18,
   "metadata": {
    "ExecuteTime": {
     "end_time": "2021-05-31T20:10:22.149258Z",
     "start_time": "2021-05-31T20:10:20.380316Z"
    }
   },
   "outputs": [
    {
     "name": "stdout",
     "output_type": "stream",
     "text": [
      "root\n",
      " |-- zespol: string (nullable = true)\n",
      " |-- slupek: string (nullable = true)\n",
      " |-- linia: string (nullable = true)\n",
      "\n"
     ]
    }
   ],
   "source": [
    "df2 = rdd2.toDF(['zespol', 'slupek', 'linia'])\n",
    "df2.printSchema()"
   ]
  },
  {
   "cell_type": "code",
   "execution_count": 19,
   "metadata": {
    "ExecuteTime": {
     "end_time": "2021-05-31T20:10:24.384881Z",
     "start_time": "2021-05-31T20:10:24.323911Z"
    }
   },
   "outputs": [],
   "source": [
    "df3 = df_busStops.join(df2, on = ['zespol', 'slupek'], how = 'outer')"
   ]
  },
  {
   "cell_type": "code",
   "execution_count": 20,
   "metadata": {
    "ExecuteTime": {
     "end_time": "2021-05-31T20:10:26.272937Z",
     "start_time": "2021-05-31T20:10:26.267047Z"
    },
    "scrolled": true
   },
   "outputs": [
    {
     "data": {
      "text/plain": [
       "['zespol',\n",
       " 'slupek',\n",
       " 'nazwa_zespolu',\n",
       " 'szer_geo',\n",
       " 'dlug_geo',\n",
       " 'kierunek',\n",
       " 'linia']"
      ]
     },
     "execution_count": 20,
     "metadata": {},
     "output_type": "execute_result"
    }
   ],
   "source": [
    "df3.columns"
   ]
  },
  {
   "cell_type": "markdown",
   "metadata": {
    "heading_collapsed": true
   },
   "source": [
    "### Analiza (opcjonalne)"
   ]
  },
  {
   "cell_type": "markdown",
   "metadata": {
    "hidden": true
   },
   "source": [
    "Rozkład partycji"
   ]
  },
  {
   "cell_type": "code",
   "execution_count": null,
   "metadata": {
    "ExecuteTime": {
     "start_time": "2021-05-24T14:38:36.412Z"
    },
    "hidden": true
   },
   "outputs": [],
   "source": [
    "df3.rdd.glom().map(len).collect()"
   ]
  },
  {
   "cell_type": "code",
   "execution_count": 19,
   "metadata": {
    "ExecuteTime": {
     "end_time": "2021-05-12T20:03:30.595915Z",
     "start_time": "2021-05-12T19:55:59.342910Z"
    },
    "hidden": true,
    "scrolled": true
   },
   "outputs": [
    {
     "name": "stdout",
     "output_type": "stream",
     "text": [
      "+------+------+-------------------+---------+---------+-----------------+-----+\n",
      "|zespol|slupek|      nazwa_zespolu| szer_geo| dlug_geo|         kierunek|linia|\n",
      "+------+------+-------------------+---------+---------+-----------------+-----+\n",
      "|  1008|    03|              PIMot|52.270517|21.016711|       Golędzinów|   18|\n",
      "|  1008|    03|              PIMot|52.270517|21.016711|       Golędzinów|   20|\n",
      "|  1039|    03|      Księżnej Anny|52.261307|21.077520|       Nieświeska|  338|\n",
      "|  1105|    01|           Ołówkowa|52.338677|20.992465|        Sadkowska|  152|\n",
      "|  1105|    01|           Ołówkowa|52.338677|20.992465|        Sadkowska|  176|\n",
      "|  1105|    01|           Ołówkowa|52.338677|20.992465|        Sadkowska|  N64|\n",
      "|  1140|    01|       Metro Trocka|52.274977|21.056486|      Radzymińska|  140|\n",
      "|  1140|    01|       Metro Trocka|52.274977|21.056486|      Radzymińska|  160|\n",
      "|  1140|    01|       Metro Trocka|52.274977|21.056486|      Radzymińska|  199|\n",
      "|  1140|    01|       Metro Trocka|52.274977|21.056486|      Radzymińska|  212|\n",
      "|  1140|    01|       Metro Trocka|52.274977|21.056486|      Radzymińska|  245|\n",
      "|  1140|    01|       Metro Trocka|52.274977|21.056486|      Radzymińska|  256|\n",
      "|  1140|    01|       Metro Trocka|52.274977|21.056486|      Radzymińska|  262|\n",
      "|  1140|    01|       Metro Trocka|52.274977|21.056486|      Radzymińska|  269|\n",
      "|  1140|    01|       Metro Trocka|52.274977|21.056486|      Radzymińska|  340|\n",
      "|  1140|    01|       Metro Trocka|52.274977|21.056486|      Radzymińska|  738|\n",
      "|  1140|    01|       Metro Trocka|52.274977|21.056486|      Radzymińska|  N62|\n",
      "|  1286|    01|Juranda ze Spychowa|52.317293|21.050570|Piasta Kołodzieja|  132|\n",
      "|  1286|    01|Juranda ze Spychowa|52.317293|21.050570|Piasta Kołodzieja|  134|\n",
      "|  1286|    01|Juranda ze Spychowa|52.317293|21.050570|Piasta Kołodzieja|  332|\n",
      "+------+------+-------------------+---------+---------+-----------------+-----+\n",
      "only showing top 20 rows\n",
      "\n"
     ]
    }
   ],
   "source": [
    "df3.show()"
   ]
  },
  {
   "cell_type": "code",
   "execution_count": 21,
   "metadata": {
    "ExecuteTime": {
     "end_time": "2021-05-12T20:20:41.073997Z",
     "start_time": "2021-05-12T20:13:52.522923Z"
    },
    "hidden": true,
    "scrolled": false
   },
   "outputs": [
    {
     "data": {
      "text/plain": [
       "[Row(zespol='1001', slupek='01', nazwa_zespolu='Kijowska', szer_geo='52.248455', dlug_geo='21.044827', kierunek='al.Zieleniecka', linia='123'),\n",
       " Row(zespol='1001', slupek='01', nazwa_zespolu='Kijowska', szer_geo='52.248455', dlug_geo='21.044827', kierunek='al.Zieleniecka', linia='125'),\n",
       " Row(zespol='1001', slupek='01', nazwa_zespolu='Kijowska', szer_geo='52.248455', dlug_geo='21.044827', kierunek='al.Zieleniecka', linia='138'),\n",
       " Row(zespol='1001', slupek='01', nazwa_zespolu='Kijowska', szer_geo='52.248455', dlug_geo='21.044827', kierunek='al.Zieleniecka', linia='146'),\n",
       " Row(zespol='1001', slupek='01', nazwa_zespolu='Kijowska', szer_geo='52.248455', dlug_geo='21.044827', kierunek='al.Zieleniecka', linia='147'),\n",
       " Row(zespol='1001', slupek='01', nazwa_zespolu='Kijowska', szer_geo='52.248455', dlug_geo='21.044827', kierunek='al.Zieleniecka', linia='166'),\n",
       " Row(zespol='1001', slupek='01', nazwa_zespolu='Kijowska', szer_geo='52.248455', dlug_geo='21.044827', kierunek='al.Zieleniecka', linia='202'),\n",
       " Row(zespol='1001', slupek='01', nazwa_zespolu='Kijowska', szer_geo='52.248455', dlug_geo='21.044827', kierunek='al.Zieleniecka', linia='509'),\n",
       " Row(zespol='1001', slupek='01', nazwa_zespolu='Kijowska', szer_geo='52.248455', dlug_geo='21.044827', kierunek='al.Zieleniecka', linia='902'),\n",
       " Row(zespol='1001', slupek='01', nazwa_zespolu='Kijowska', szer_geo='52.248455', dlug_geo='21.044827', kierunek='al.Zieleniecka', linia='N02'),\n",
       " Row(zespol='1001', slupek='01', nazwa_zespolu='Kijowska', szer_geo='52.248455', dlug_geo='21.044827', kierunek='al.Zieleniecka', linia='N03'),\n",
       " Row(zespol='1001', slupek='01', nazwa_zespolu='Kijowska', szer_geo='52.248455', dlug_geo='21.044827', kierunek='al.Zieleniecka', linia='N21'),\n",
       " Row(zespol='1001', slupek='01', nazwa_zespolu='Kijowska', szer_geo='52.248455', dlug_geo='21.044827', kierunek='al.Zieleniecka', linia='N71')]"
      ]
     },
     "execution_count": 21,
     "metadata": {},
     "output_type": "execute_result"
    }
   ],
   "source": [
    "df3.filter(df3.zespol.contains('1001') & df3.slupek.contains('01')).collect()"
   ]
  },
  {
   "cell_type": "code",
   "execution_count": 23,
   "metadata": {
    "ExecuteTime": {
     "end_time": "2021-05-12T21:51:25.442760Z",
     "start_time": "2021-05-12T21:44:33.132118Z"
    },
    "hidden": true
   },
   "outputs": [
    {
     "data": {
      "text/plain": [
       "22984"
      ]
     },
     "execution_count": 23,
     "metadata": {},
     "output_type": "execute_result"
    }
   ],
   "source": [
    "df3.count()"
   ]
  },
  {
   "cell_type": "markdown",
   "metadata": {},
   "source": [
    "## Pobranie rozkładu jazdy dla linii na każdym przystanku i dołączenie do DF"
   ]
  },
  {
   "cell_type": "code",
   "execution_count": 21,
   "metadata": {
    "ExecuteTime": {
     "end_time": "2021-05-31T20:10:39.776632Z",
     "start_time": "2021-05-31T20:10:39.771706Z"
    }
   },
   "outputs": [],
   "source": [
    "rdd3 = rdd2.map(lambda x: [[x[0], x[1], x[2], elem['brygada'], elem['czas']] for elem in get_schedule_of_line(x[0], x[1], x[2])])"
   ]
  },
  {
   "cell_type": "code",
   "execution_count": 22,
   "metadata": {
    "ExecuteTime": {
     "end_time": "2021-05-31T20:10:41.286963Z",
     "start_time": "2021-05-31T20:10:41.284248Z"
    }
   },
   "outputs": [],
   "source": [
    "rdd3 = rdd3.flatMap(lambda x: x)"
   ]
  },
  {
   "cell_type": "code",
   "execution_count": 23,
   "metadata": {
    "ExecuteTime": {
     "end_time": "2021-05-31T20:10:45.263250Z",
     "start_time": "2021-05-31T20:10:42.867582Z"
    }
   },
   "outputs": [],
   "source": [
    "df4 = rdd3.toDF(['zespol', 'slupek', 'linia', 'brygada', 'czas'])"
   ]
  },
  {
   "cell_type": "code",
   "execution_count": 24,
   "metadata": {
    "ExecuteTime": {
     "end_time": "2021-05-31T20:10:47.728403Z",
     "start_time": "2021-05-31T20:10:47.723781Z"
    }
   },
   "outputs": [
    {
     "name": "stdout",
     "output_type": "stream",
     "text": [
      "root\n",
      " |-- zespol: string (nullable = true)\n",
      " |-- slupek: string (nullable = true)\n",
      " |-- nazwa_zespolu: string (nullable = true)\n",
      " |-- szer_geo: string (nullable = true)\n",
      " |-- dlug_geo: string (nullable = true)\n",
      " |-- kierunek: string (nullable = true)\n",
      " |-- linia: string (nullable = true)\n",
      "\n"
     ]
    }
   ],
   "source": [
    "df3.printSchema()"
   ]
  },
  {
   "cell_type": "code",
   "execution_count": 25,
   "metadata": {
    "ExecuteTime": {
     "end_time": "2021-05-31T20:10:49.567219Z",
     "start_time": "2021-05-31T20:10:49.562560Z"
    }
   },
   "outputs": [
    {
     "name": "stdout",
     "output_type": "stream",
     "text": [
      "root\n",
      " |-- zespol: string (nullable = true)\n",
      " |-- slupek: string (nullable = true)\n",
      " |-- linia: string (nullable = true)\n",
      " |-- brygada: string (nullable = true)\n",
      " |-- czas: string (nullable = true)\n",
      "\n"
     ]
    }
   ],
   "source": [
    "df4.printSchema()"
   ]
  },
  {
   "cell_type": "code",
   "execution_count": 26,
   "metadata": {
    "ExecuteTime": {
     "end_time": "2021-05-31T20:10:55.934232Z",
     "start_time": "2021-05-31T20:10:55.900599Z"
    }
   },
   "outputs": [],
   "source": [
    "df5 = df3.join(df4, on = ['zespol', 'slupek', 'linia'], how = 'outer')"
   ]
  },
  {
   "cell_type": "code",
   "execution_count": 27,
   "metadata": {
    "ExecuteTime": {
     "end_time": "2021-05-31T20:10:57.400068Z",
     "start_time": "2021-05-31T20:10:57.396376Z"
    },
    "scrolled": true
   },
   "outputs": [
    {
     "name": "stdout",
     "output_type": "stream",
     "text": [
      "root\n",
      " |-- zespol: string (nullable = true)\n",
      " |-- slupek: string (nullable = true)\n",
      " |-- linia: string (nullable = true)\n",
      " |-- nazwa_zespolu: string (nullable = true)\n",
      " |-- szer_geo: string (nullable = true)\n",
      " |-- dlug_geo: string (nullable = true)\n",
      " |-- kierunek: string (nullable = true)\n",
      " |-- brygada: string (nullable = true)\n",
      " |-- czas: string (nullable = true)\n",
      "\n"
     ]
    }
   ],
   "source": [
    "df5.printSchema()"
   ]
  },
  {
   "cell_type": "markdown",
   "metadata": {},
   "source": [
    "## Odfiltrowanie linii z literami w nazwie oraz pustych rekordów"
   ]
  },
  {
   "cell_type": "code",
   "execution_count": 28,
   "metadata": {
    "ExecuteTime": {
     "end_time": "2021-05-31T20:11:01.544514Z",
     "start_time": "2021-05-31T20:11:01.371152Z"
    }
   },
   "outputs": [],
   "source": [
    "# Odfiltrowanie linii z literami w nazwie\n",
    "df5 = df5.filter(df5.linia.rlike('^\\d+'))\n",
    "df5 = df5.filter(df5.szer_geo != 'null').filter(df5.dlug_geo != 'null')"
   ]
  },
  {
   "cell_type": "markdown",
   "metadata": {},
   "source": [
    "## Obrobienie i podzielenie otrzymanego DF na bus i tram"
   ]
  },
  {
   "cell_type": "code",
   "execution_count": 29,
   "metadata": {
    "ExecuteTime": {
     "end_time": "2021-05-31T20:11:05.581180Z",
     "start_time": "2021-05-31T20:11:04.915512Z"
    }
   },
   "outputs": [],
   "source": [
    "rdd4 = df5.rdd.map(list)\n",
    "rdd5 = rdd4.map(lambda x: [x[0], x[1], x[2], x[3], x[4], x[5], x[6], x[7], x[8], f\"{x[2]}/{x[7]}\"])\n",
    "rdd6 = rdd5.map(lambda x: [x[0], x[1], x[2], x[3], x[4], x[5], x[6], x[7], x[8], x[9], f\"{x[0]}/{x[1]}\"])\n",
    "rdd7 = rdd6.map(lambda x: [x[0], x[1], int(x[2]), x[3], float(x[4]), float(x[5]), x[6], x[7], x[8], x[9], x[10]])"
   ]
  },
  {
   "cell_type": "code",
   "execution_count": 30,
   "metadata": {
    "ExecuteTime": {
     "end_time": "2021-05-31T22:43:45.390369Z",
     "start_time": "2021-05-31T20:11:08.227653Z"
    }
   },
   "outputs": [
    {
     "ename": "KeyboardInterrupt",
     "evalue": "",
     "output_type": "error",
     "traceback": [
      "\u001b[0;31m---------------------------------------------------------------------------\u001b[0m",
      "\u001b[0;31mKeyboardInterrupt\u001b[0m                         Traceback (most recent call last)",
      "\u001b[0;32m<ipython-input-30-d2666c532b9e>\u001b[0m in \u001b[0;36m<module>\u001b[0;34m\u001b[0m\n\u001b[0;32m----> 1\u001b[0;31m \u001b[0mdf_all_1\u001b[0m \u001b[0;34m=\u001b[0m \u001b[0mrdd7\u001b[0m\u001b[0;34m.\u001b[0m\u001b[0mtoDF\u001b[0m\u001b[0;34m(\u001b[0m\u001b[0;34m[\u001b[0m\u001b[0;34m'busStopGroupID'\u001b[0m\u001b[0;34m,\u001b[0m \u001b[0;34m'busStopNr'\u001b[0m\u001b[0;34m,\u001b[0m \u001b[0;34m'line'\u001b[0m\u001b[0;34m,\u001b[0m \u001b[0;34m'busStopName'\u001b[0m\u001b[0;34m,\u001b[0m \u001b[0;34m'sLat'\u001b[0m\u001b[0;34m,\u001b[0m \u001b[0;34m'sLon'\u001b[0m\u001b[0;34m,\u001b[0m \u001b[0;34m'dir'\u001b[0m\u001b[0;34m,\u001b[0m \u001b[0;34m'brigade'\u001b[0m\u001b[0;34m,\u001b[0m \u001b[0;34m'sTime'\u001b[0m\u001b[0;34m,\u001b[0m \u001b[0;34m'vehicleID'\u001b[0m\u001b[0;34m,\u001b[0m \u001b[0;34m'busStopID'\u001b[0m\u001b[0;34m]\u001b[0m\u001b[0;34m)\u001b[0m\u001b[0;34m\u001b[0m\u001b[0;34m\u001b[0m\u001b[0m\n\u001b[0m",
      "\u001b[0;32m~/anaconda3/envs/spark/lib/python3.9/site-packages/pyspark/sql/session.py\u001b[0m in \u001b[0;36mtoDF\u001b[0;34m(self, schema, sampleRatio)\u001b[0m\n\u001b[1;32m     64\u001b[0m         \u001b[0;34m[\u001b[0m\u001b[0mRow\u001b[0m\u001b[0;34m(\u001b[0m\u001b[0mname\u001b[0m\u001b[0;34m=\u001b[0m\u001b[0;34m'Alice'\u001b[0m\u001b[0;34m,\u001b[0m \u001b[0mage\u001b[0m\u001b[0;34m=\u001b[0m\u001b[0;36m1\u001b[0m\u001b[0;34m)\u001b[0m\u001b[0;34m]\u001b[0m\u001b[0;34m\u001b[0m\u001b[0;34m\u001b[0m\u001b[0m\n\u001b[1;32m     65\u001b[0m         \"\"\"\n\u001b[0;32m---> 66\u001b[0;31m         \u001b[0;32mreturn\u001b[0m \u001b[0msparkSession\u001b[0m\u001b[0;34m.\u001b[0m\u001b[0mcreateDataFrame\u001b[0m\u001b[0;34m(\u001b[0m\u001b[0mself\u001b[0m\u001b[0;34m,\u001b[0m \u001b[0mschema\u001b[0m\u001b[0;34m,\u001b[0m \u001b[0msampleRatio\u001b[0m\u001b[0;34m)\u001b[0m\u001b[0;34m\u001b[0m\u001b[0;34m\u001b[0m\u001b[0m\n\u001b[0m\u001b[1;32m     67\u001b[0m \u001b[0;34m\u001b[0m\u001b[0m\n\u001b[1;32m     68\u001b[0m     \u001b[0mRDD\u001b[0m\u001b[0;34m.\u001b[0m\u001b[0mtoDF\u001b[0m \u001b[0;34m=\u001b[0m \u001b[0mtoDF\u001b[0m\u001b[0;34m\u001b[0m\u001b[0;34m\u001b[0m\u001b[0m\n",
      "\u001b[0;32m~/anaconda3/envs/spark/lib/python3.9/site-packages/pyspark/sql/session.py\u001b[0m in \u001b[0;36mcreateDataFrame\u001b[0;34m(self, data, schema, samplingRatio, verifySchema)\u001b[0m\n\u001b[1;32m    673\u001b[0m             return super(SparkSession, self).createDataFrame(\n\u001b[1;32m    674\u001b[0m                 data, schema, samplingRatio, verifySchema)\n\u001b[0;32m--> 675\u001b[0;31m         \u001b[0;32mreturn\u001b[0m \u001b[0mself\u001b[0m\u001b[0;34m.\u001b[0m\u001b[0m_create_dataframe\u001b[0m\u001b[0;34m(\u001b[0m\u001b[0mdata\u001b[0m\u001b[0;34m,\u001b[0m \u001b[0mschema\u001b[0m\u001b[0;34m,\u001b[0m \u001b[0msamplingRatio\u001b[0m\u001b[0;34m,\u001b[0m \u001b[0mverifySchema\u001b[0m\u001b[0;34m)\u001b[0m\u001b[0;34m\u001b[0m\u001b[0;34m\u001b[0m\u001b[0m\n\u001b[0m\u001b[1;32m    676\u001b[0m \u001b[0;34m\u001b[0m\u001b[0m\n\u001b[1;32m    677\u001b[0m     \u001b[0;32mdef\u001b[0m \u001b[0m_create_dataframe\u001b[0m\u001b[0;34m(\u001b[0m\u001b[0mself\u001b[0m\u001b[0;34m,\u001b[0m \u001b[0mdata\u001b[0m\u001b[0;34m,\u001b[0m \u001b[0mschema\u001b[0m\u001b[0;34m,\u001b[0m \u001b[0msamplingRatio\u001b[0m\u001b[0;34m,\u001b[0m \u001b[0mverifySchema\u001b[0m\u001b[0;34m)\u001b[0m\u001b[0;34m:\u001b[0m\u001b[0;34m\u001b[0m\u001b[0;34m\u001b[0m\u001b[0m\n",
      "\u001b[0;32m~/anaconda3/envs/spark/lib/python3.9/site-packages/pyspark/sql/session.py\u001b[0m in \u001b[0;36m_create_dataframe\u001b[0;34m(self, data, schema, samplingRatio, verifySchema)\u001b[0m\n\u001b[1;32m    696\u001b[0m \u001b[0;34m\u001b[0m\u001b[0m\n\u001b[1;32m    697\u001b[0m         \u001b[0;32mif\u001b[0m \u001b[0misinstance\u001b[0m\u001b[0;34m(\u001b[0m\u001b[0mdata\u001b[0m\u001b[0;34m,\u001b[0m \u001b[0mRDD\u001b[0m\u001b[0;34m)\u001b[0m\u001b[0;34m:\u001b[0m\u001b[0;34m\u001b[0m\u001b[0;34m\u001b[0m\u001b[0m\n\u001b[0;32m--> 698\u001b[0;31m             \u001b[0mrdd\u001b[0m\u001b[0;34m,\u001b[0m \u001b[0mschema\u001b[0m \u001b[0;34m=\u001b[0m \u001b[0mself\u001b[0m\u001b[0;34m.\u001b[0m\u001b[0m_createFromRDD\u001b[0m\u001b[0;34m(\u001b[0m\u001b[0mdata\u001b[0m\u001b[0;34m.\u001b[0m\u001b[0mmap\u001b[0m\u001b[0;34m(\u001b[0m\u001b[0mprepare\u001b[0m\u001b[0;34m)\u001b[0m\u001b[0;34m,\u001b[0m \u001b[0mschema\u001b[0m\u001b[0;34m,\u001b[0m \u001b[0msamplingRatio\u001b[0m\u001b[0;34m)\u001b[0m\u001b[0;34m\u001b[0m\u001b[0;34m\u001b[0m\u001b[0m\n\u001b[0m\u001b[1;32m    699\u001b[0m         \u001b[0;32melse\u001b[0m\u001b[0;34m:\u001b[0m\u001b[0;34m\u001b[0m\u001b[0;34m\u001b[0m\u001b[0m\n\u001b[1;32m    700\u001b[0m             \u001b[0mrdd\u001b[0m\u001b[0;34m,\u001b[0m \u001b[0mschema\u001b[0m \u001b[0;34m=\u001b[0m \u001b[0mself\u001b[0m\u001b[0;34m.\u001b[0m\u001b[0m_createFromLocal\u001b[0m\u001b[0;34m(\u001b[0m\u001b[0mmap\u001b[0m\u001b[0;34m(\u001b[0m\u001b[0mprepare\u001b[0m\u001b[0;34m,\u001b[0m \u001b[0mdata\u001b[0m\u001b[0;34m)\u001b[0m\u001b[0;34m,\u001b[0m \u001b[0mschema\u001b[0m\u001b[0;34m)\u001b[0m\u001b[0;34m\u001b[0m\u001b[0;34m\u001b[0m\u001b[0m\n",
      "\u001b[0;32m~/anaconda3/envs/spark/lib/python3.9/site-packages/pyspark/sql/session.py\u001b[0m in \u001b[0;36m_createFromRDD\u001b[0;34m(self, rdd, schema, samplingRatio)\u001b[0m\n\u001b[1;32m    484\u001b[0m         \"\"\"\n\u001b[1;32m    485\u001b[0m         \u001b[0;32mif\u001b[0m \u001b[0mschema\u001b[0m \u001b[0;32mis\u001b[0m \u001b[0;32mNone\u001b[0m \u001b[0;32mor\u001b[0m \u001b[0misinstance\u001b[0m\u001b[0;34m(\u001b[0m\u001b[0mschema\u001b[0m\u001b[0;34m,\u001b[0m \u001b[0;34m(\u001b[0m\u001b[0mlist\u001b[0m\u001b[0;34m,\u001b[0m \u001b[0mtuple\u001b[0m\u001b[0;34m)\u001b[0m\u001b[0;34m)\u001b[0m\u001b[0;34m:\u001b[0m\u001b[0;34m\u001b[0m\u001b[0;34m\u001b[0m\u001b[0m\n\u001b[0;32m--> 486\u001b[0;31m             \u001b[0mstruct\u001b[0m \u001b[0;34m=\u001b[0m \u001b[0mself\u001b[0m\u001b[0;34m.\u001b[0m\u001b[0m_inferSchema\u001b[0m\u001b[0;34m(\u001b[0m\u001b[0mrdd\u001b[0m\u001b[0;34m,\u001b[0m \u001b[0msamplingRatio\u001b[0m\u001b[0;34m,\u001b[0m \u001b[0mnames\u001b[0m\u001b[0;34m=\u001b[0m\u001b[0mschema\u001b[0m\u001b[0;34m)\u001b[0m\u001b[0;34m\u001b[0m\u001b[0;34m\u001b[0m\u001b[0m\n\u001b[0m\u001b[1;32m    487\u001b[0m             \u001b[0mconverter\u001b[0m \u001b[0;34m=\u001b[0m \u001b[0m_create_converter\u001b[0m\u001b[0;34m(\u001b[0m\u001b[0mstruct\u001b[0m\u001b[0;34m)\u001b[0m\u001b[0;34m\u001b[0m\u001b[0;34m\u001b[0m\u001b[0m\n\u001b[1;32m    488\u001b[0m             \u001b[0mrdd\u001b[0m \u001b[0;34m=\u001b[0m \u001b[0mrdd\u001b[0m\u001b[0;34m.\u001b[0m\u001b[0mmap\u001b[0m\u001b[0;34m(\u001b[0m\u001b[0mconverter\u001b[0m\u001b[0;34m)\u001b[0m\u001b[0;34m\u001b[0m\u001b[0;34m\u001b[0m\u001b[0m\n",
      "\u001b[0;32m~/anaconda3/envs/spark/lib/python3.9/site-packages/pyspark/sql/session.py\u001b[0m in \u001b[0;36m_inferSchema\u001b[0;34m(self, rdd, samplingRatio, names)\u001b[0m\n\u001b[1;32m    458\u001b[0m         \u001b[0;34m:\u001b[0m\u001b[0;32mclass\u001b[0m\u001b[0;34m:\u001b[0m\u001b[0;31m`\u001b[0m\u001b[0mpyspark\u001b[0m\u001b[0;34m.\u001b[0m\u001b[0msql\u001b[0m\u001b[0;34m.\u001b[0m\u001b[0mtypes\u001b[0m\u001b[0;34m.\u001b[0m\u001b[0mStructType\u001b[0m\u001b[0;31m`\u001b[0m\u001b[0;34m\u001b[0m\u001b[0;34m\u001b[0m\u001b[0m\n\u001b[1;32m    459\u001b[0m         \"\"\"\n\u001b[0;32m--> 460\u001b[0;31m         \u001b[0mfirst\u001b[0m \u001b[0;34m=\u001b[0m \u001b[0mrdd\u001b[0m\u001b[0;34m.\u001b[0m\u001b[0mfirst\u001b[0m\u001b[0;34m(\u001b[0m\u001b[0;34m)\u001b[0m\u001b[0;34m\u001b[0m\u001b[0;34m\u001b[0m\u001b[0m\n\u001b[0m\u001b[1;32m    461\u001b[0m         \u001b[0;32mif\u001b[0m \u001b[0;32mnot\u001b[0m \u001b[0mfirst\u001b[0m\u001b[0;34m:\u001b[0m\u001b[0;34m\u001b[0m\u001b[0;34m\u001b[0m\u001b[0m\n\u001b[1;32m    462\u001b[0m             raise ValueError(\"The first row in RDD is empty, \"\n",
      "\u001b[0;32m~/anaconda3/envs/spark/lib/python3.9/site-packages/pyspark/rdd.py\u001b[0m in \u001b[0;36mfirst\u001b[0;34m(self)\u001b[0m\n\u001b[1;32m   1584\u001b[0m         \u001b[0mValueError\u001b[0m\u001b[0;34m:\u001b[0m \u001b[0mRDD\u001b[0m \u001b[0;32mis\u001b[0m \u001b[0mempty\u001b[0m\u001b[0;34m\u001b[0m\u001b[0;34m\u001b[0m\u001b[0m\n\u001b[1;32m   1585\u001b[0m         \"\"\"\n\u001b[0;32m-> 1586\u001b[0;31m         \u001b[0mrs\u001b[0m \u001b[0;34m=\u001b[0m \u001b[0mself\u001b[0m\u001b[0;34m.\u001b[0m\u001b[0mtake\u001b[0m\u001b[0;34m(\u001b[0m\u001b[0;36m1\u001b[0m\u001b[0;34m)\u001b[0m\u001b[0;34m\u001b[0m\u001b[0;34m\u001b[0m\u001b[0m\n\u001b[0m\u001b[1;32m   1587\u001b[0m         \u001b[0;32mif\u001b[0m \u001b[0mrs\u001b[0m\u001b[0;34m:\u001b[0m\u001b[0;34m\u001b[0m\u001b[0;34m\u001b[0m\u001b[0m\n\u001b[1;32m   1588\u001b[0m             \u001b[0;32mreturn\u001b[0m \u001b[0mrs\u001b[0m\u001b[0;34m[\u001b[0m\u001b[0;36m0\u001b[0m\u001b[0;34m]\u001b[0m\u001b[0;34m\u001b[0m\u001b[0;34m\u001b[0m\u001b[0m\n",
      "\u001b[0;32m~/anaconda3/envs/spark/lib/python3.9/site-packages/pyspark/rdd.py\u001b[0m in \u001b[0;36mtake\u001b[0;34m(self, num)\u001b[0m\n\u001b[1;32m   1564\u001b[0m \u001b[0;34m\u001b[0m\u001b[0m\n\u001b[1;32m   1565\u001b[0m             \u001b[0mp\u001b[0m \u001b[0;34m=\u001b[0m \u001b[0mrange\u001b[0m\u001b[0;34m(\u001b[0m\u001b[0mpartsScanned\u001b[0m\u001b[0;34m,\u001b[0m \u001b[0mmin\u001b[0m\u001b[0;34m(\u001b[0m\u001b[0mpartsScanned\u001b[0m \u001b[0;34m+\u001b[0m \u001b[0mnumPartsToTry\u001b[0m\u001b[0;34m,\u001b[0m \u001b[0mtotalParts\u001b[0m\u001b[0;34m)\u001b[0m\u001b[0;34m)\u001b[0m\u001b[0;34m\u001b[0m\u001b[0;34m\u001b[0m\u001b[0m\n\u001b[0;32m-> 1566\u001b[0;31m             \u001b[0mres\u001b[0m \u001b[0;34m=\u001b[0m \u001b[0mself\u001b[0m\u001b[0;34m.\u001b[0m\u001b[0mcontext\u001b[0m\u001b[0;34m.\u001b[0m\u001b[0mrunJob\u001b[0m\u001b[0;34m(\u001b[0m\u001b[0mself\u001b[0m\u001b[0;34m,\u001b[0m \u001b[0mtakeUpToNumLeft\u001b[0m\u001b[0;34m,\u001b[0m \u001b[0mp\u001b[0m\u001b[0;34m)\u001b[0m\u001b[0;34m\u001b[0m\u001b[0;34m\u001b[0m\u001b[0m\n\u001b[0m\u001b[1;32m   1567\u001b[0m \u001b[0;34m\u001b[0m\u001b[0m\n\u001b[1;32m   1568\u001b[0m             \u001b[0mitems\u001b[0m \u001b[0;34m+=\u001b[0m \u001b[0mres\u001b[0m\u001b[0;34m\u001b[0m\u001b[0;34m\u001b[0m\u001b[0m\n",
      "\u001b[0;32m~/anaconda3/envs/spark/lib/python3.9/site-packages/pyspark/context.py\u001b[0m in \u001b[0;36mrunJob\u001b[0;34m(self, rdd, partitionFunc, partitions, allowLocal)\u001b[0m\n\u001b[1;32m   1231\u001b[0m         \u001b[0;31m# SparkContext#runJob.\u001b[0m\u001b[0;34m\u001b[0m\u001b[0;34m\u001b[0m\u001b[0;34m\u001b[0m\u001b[0m\n\u001b[1;32m   1232\u001b[0m         \u001b[0mmappedRDD\u001b[0m \u001b[0;34m=\u001b[0m \u001b[0mrdd\u001b[0m\u001b[0;34m.\u001b[0m\u001b[0mmapPartitions\u001b[0m\u001b[0;34m(\u001b[0m\u001b[0mpartitionFunc\u001b[0m\u001b[0;34m)\u001b[0m\u001b[0;34m\u001b[0m\u001b[0;34m\u001b[0m\u001b[0m\n\u001b[0;32m-> 1233\u001b[0;31m         \u001b[0msock_info\u001b[0m \u001b[0;34m=\u001b[0m \u001b[0mself\u001b[0m\u001b[0;34m.\u001b[0m\u001b[0m_jvm\u001b[0m\u001b[0;34m.\u001b[0m\u001b[0mPythonRDD\u001b[0m\u001b[0;34m.\u001b[0m\u001b[0mrunJob\u001b[0m\u001b[0;34m(\u001b[0m\u001b[0mself\u001b[0m\u001b[0;34m.\u001b[0m\u001b[0m_jsc\u001b[0m\u001b[0;34m.\u001b[0m\u001b[0msc\u001b[0m\u001b[0;34m(\u001b[0m\u001b[0;34m)\u001b[0m\u001b[0;34m,\u001b[0m \u001b[0mmappedRDD\u001b[0m\u001b[0;34m.\u001b[0m\u001b[0m_jrdd\u001b[0m\u001b[0;34m,\u001b[0m \u001b[0mpartitions\u001b[0m\u001b[0;34m)\u001b[0m\u001b[0;34m\u001b[0m\u001b[0;34m\u001b[0m\u001b[0m\n\u001b[0m\u001b[1;32m   1234\u001b[0m         \u001b[0;32mreturn\u001b[0m \u001b[0mlist\u001b[0m\u001b[0;34m(\u001b[0m\u001b[0m_load_from_socket\u001b[0m\u001b[0;34m(\u001b[0m\u001b[0msock_info\u001b[0m\u001b[0;34m,\u001b[0m \u001b[0mmappedRDD\u001b[0m\u001b[0;34m.\u001b[0m\u001b[0m_jrdd_deserializer\u001b[0m\u001b[0;34m)\u001b[0m\u001b[0;34m)\u001b[0m\u001b[0;34m\u001b[0m\u001b[0;34m\u001b[0m\u001b[0m\n\u001b[1;32m   1235\u001b[0m \u001b[0;34m\u001b[0m\u001b[0m\n",
      "\u001b[0;32m~/anaconda3/envs/spark/lib/python3.9/site-packages/py4j/java_gateway.py\u001b[0m in \u001b[0;36m__call__\u001b[0;34m(self, *args)\u001b[0m\n\u001b[1;32m   1301\u001b[0m             \u001b[0mproto\u001b[0m\u001b[0;34m.\u001b[0m\u001b[0mEND_COMMAND_PART\u001b[0m\u001b[0;34m\u001b[0m\u001b[0;34m\u001b[0m\u001b[0m\n\u001b[1;32m   1302\u001b[0m \u001b[0;34m\u001b[0m\u001b[0m\n\u001b[0;32m-> 1303\u001b[0;31m         \u001b[0manswer\u001b[0m \u001b[0;34m=\u001b[0m \u001b[0mself\u001b[0m\u001b[0;34m.\u001b[0m\u001b[0mgateway_client\u001b[0m\u001b[0;34m.\u001b[0m\u001b[0msend_command\u001b[0m\u001b[0;34m(\u001b[0m\u001b[0mcommand\u001b[0m\u001b[0;34m)\u001b[0m\u001b[0;34m\u001b[0m\u001b[0;34m\u001b[0m\u001b[0m\n\u001b[0m\u001b[1;32m   1304\u001b[0m         return_value = get_return_value(\n\u001b[1;32m   1305\u001b[0m             answer, self.gateway_client, self.target_id, self.name)\n",
      "\u001b[0;32m~/anaconda3/envs/spark/lib/python3.9/site-packages/py4j/java_gateway.py\u001b[0m in \u001b[0;36msend_command\u001b[0;34m(self, command, retry, binary)\u001b[0m\n\u001b[1;32m   1031\u001b[0m         \u001b[0mconnection\u001b[0m \u001b[0;34m=\u001b[0m \u001b[0mself\u001b[0m\u001b[0;34m.\u001b[0m\u001b[0m_get_connection\u001b[0m\u001b[0;34m(\u001b[0m\u001b[0;34m)\u001b[0m\u001b[0;34m\u001b[0m\u001b[0;34m\u001b[0m\u001b[0m\n\u001b[1;32m   1032\u001b[0m         \u001b[0;32mtry\u001b[0m\u001b[0;34m:\u001b[0m\u001b[0;34m\u001b[0m\u001b[0;34m\u001b[0m\u001b[0m\n\u001b[0;32m-> 1033\u001b[0;31m             \u001b[0mresponse\u001b[0m \u001b[0;34m=\u001b[0m \u001b[0mconnection\u001b[0m\u001b[0;34m.\u001b[0m\u001b[0msend_command\u001b[0m\u001b[0;34m(\u001b[0m\u001b[0mcommand\u001b[0m\u001b[0;34m)\u001b[0m\u001b[0;34m\u001b[0m\u001b[0;34m\u001b[0m\u001b[0m\n\u001b[0m\u001b[1;32m   1034\u001b[0m             \u001b[0;32mif\u001b[0m \u001b[0mbinary\u001b[0m\u001b[0;34m:\u001b[0m\u001b[0;34m\u001b[0m\u001b[0;34m\u001b[0m\u001b[0m\n\u001b[1;32m   1035\u001b[0m                 \u001b[0;32mreturn\u001b[0m \u001b[0mresponse\u001b[0m\u001b[0;34m,\u001b[0m \u001b[0mself\u001b[0m\u001b[0;34m.\u001b[0m\u001b[0m_create_connection_guard\u001b[0m\u001b[0;34m(\u001b[0m\u001b[0mconnection\u001b[0m\u001b[0;34m)\u001b[0m\u001b[0;34m\u001b[0m\u001b[0;34m\u001b[0m\u001b[0m\n",
      "\u001b[0;32m~/anaconda3/envs/spark/lib/python3.9/site-packages/py4j/java_gateway.py\u001b[0m in \u001b[0;36msend_command\u001b[0;34m(self, command)\u001b[0m\n\u001b[1;32m   1198\u001b[0m \u001b[0;34m\u001b[0m\u001b[0m\n\u001b[1;32m   1199\u001b[0m         \u001b[0;32mtry\u001b[0m\u001b[0;34m:\u001b[0m\u001b[0;34m\u001b[0m\u001b[0;34m\u001b[0m\u001b[0m\n\u001b[0;32m-> 1200\u001b[0;31m             \u001b[0manswer\u001b[0m \u001b[0;34m=\u001b[0m \u001b[0msmart_decode\u001b[0m\u001b[0;34m(\u001b[0m\u001b[0mself\u001b[0m\u001b[0;34m.\u001b[0m\u001b[0mstream\u001b[0m\u001b[0;34m.\u001b[0m\u001b[0mreadline\u001b[0m\u001b[0;34m(\u001b[0m\u001b[0;34m)\u001b[0m\u001b[0;34m[\u001b[0m\u001b[0;34m:\u001b[0m\u001b[0;34m-\u001b[0m\u001b[0;36m1\u001b[0m\u001b[0;34m]\u001b[0m\u001b[0;34m)\u001b[0m\u001b[0;34m\u001b[0m\u001b[0;34m\u001b[0m\u001b[0m\n\u001b[0m\u001b[1;32m   1201\u001b[0m             \u001b[0mlogger\u001b[0m\u001b[0;34m.\u001b[0m\u001b[0mdebug\u001b[0m\u001b[0;34m(\u001b[0m\u001b[0;34m\"Answer received: {0}\"\u001b[0m\u001b[0;34m.\u001b[0m\u001b[0mformat\u001b[0m\u001b[0;34m(\u001b[0m\u001b[0manswer\u001b[0m\u001b[0;34m)\u001b[0m\u001b[0;34m)\u001b[0m\u001b[0;34m\u001b[0m\u001b[0;34m\u001b[0m\u001b[0m\n\u001b[1;32m   1202\u001b[0m             \u001b[0;32mif\u001b[0m \u001b[0manswer\u001b[0m\u001b[0;34m.\u001b[0m\u001b[0mstartswith\u001b[0m\u001b[0;34m(\u001b[0m\u001b[0mproto\u001b[0m\u001b[0;34m.\u001b[0m\u001b[0mRETURN_MESSAGE\u001b[0m\u001b[0;34m)\u001b[0m\u001b[0;34m:\u001b[0m\u001b[0;34m\u001b[0m\u001b[0;34m\u001b[0m\u001b[0m\n",
      "\u001b[0;32m~/anaconda3/envs/spark/lib/python3.9/socket.py\u001b[0m in \u001b[0;36mreadinto\u001b[0;34m(self, b)\u001b[0m\n\u001b[1;32m    702\u001b[0m         \u001b[0;32mwhile\u001b[0m \u001b[0;32mTrue\u001b[0m\u001b[0;34m:\u001b[0m\u001b[0;34m\u001b[0m\u001b[0;34m\u001b[0m\u001b[0m\n\u001b[1;32m    703\u001b[0m             \u001b[0;32mtry\u001b[0m\u001b[0;34m:\u001b[0m\u001b[0;34m\u001b[0m\u001b[0;34m\u001b[0m\u001b[0m\n\u001b[0;32m--> 704\u001b[0;31m                 \u001b[0;32mreturn\u001b[0m \u001b[0mself\u001b[0m\u001b[0;34m.\u001b[0m\u001b[0m_sock\u001b[0m\u001b[0;34m.\u001b[0m\u001b[0mrecv_into\u001b[0m\u001b[0;34m(\u001b[0m\u001b[0mb\u001b[0m\u001b[0;34m)\u001b[0m\u001b[0;34m\u001b[0m\u001b[0;34m\u001b[0m\u001b[0m\n\u001b[0m\u001b[1;32m    705\u001b[0m             \u001b[0;32mexcept\u001b[0m \u001b[0mtimeout\u001b[0m\u001b[0;34m:\u001b[0m\u001b[0;34m\u001b[0m\u001b[0;34m\u001b[0m\u001b[0m\n\u001b[1;32m    706\u001b[0m                 \u001b[0mself\u001b[0m\u001b[0;34m.\u001b[0m\u001b[0m_timeout_occurred\u001b[0m \u001b[0;34m=\u001b[0m \u001b[0;32mTrue\u001b[0m\u001b[0;34m\u001b[0m\u001b[0;34m\u001b[0m\u001b[0m\n",
      "\u001b[0;31mKeyboardInterrupt\u001b[0m: "
     ]
    }
   ],
   "source": [
    "df_all_1 = rdd7.toDF(['busStopGroupID', 'busStopNr', 'line', 'busStopName', 'sLat', 'sLon', 'dir', 'brigade', 'sTime', 'vehicleID', 'busStopID'])"
   ]
  },
  {
   "cell_type": "code",
   "execution_count": null,
   "metadata": {
    "ExecuteTime": {
     "end_time": "2021-05-31T20:08:38.666456Z",
     "start_time": "2021-05-31T18:13:55.227Z"
    }
   },
   "outputs": [],
   "source": [
    "df_all_2 = df_all_1.drop('busStopGroupID', 'busStopNr', 'dir',  'brigade')\n",
    "df_all_2.count()"
   ]
  },
  {
   "cell_type": "code",
   "execution_count": null,
   "metadata": {
    "ExecuteTime": {
     "end_time": "2021-05-31T20:08:38.668120Z",
     "start_time": "2021-05-31T18:13:56.026Z"
    }
   },
   "outputs": [],
   "source": [
    "df_all = df_all_2.dropna()\n",
    "df_all.count()"
   ]
  },
  {
   "cell_type": "code",
   "execution_count": null,
   "metadata": {
    "ExecuteTime": {
     "end_time": "2021-05-31T20:08:38.669154Z",
     "start_time": "2021-05-31T18:13:59.946Z"
    }
   },
   "outputs": [],
   "source": [
    "df_bus = df_all_tmp.filter(df_all_tmp.line >= 100)"
   ]
  },
  {
   "cell_type": "code",
   "execution_count": null,
   "metadata": {
    "ExecuteTime": {
     "end_time": "2021-05-31T20:08:38.670759Z",
     "start_time": "2021-05-31T18:14:00.371Z"
    }
   },
   "outputs": [],
   "source": [
    "df_tram = df_all_tmp.filter(df_all_tmp.line < 100)"
   ]
  },
  {
   "cell_type": "markdown",
   "metadata": {
    "ExecuteTime": {
     "end_time": "2021-05-17T21:31:48.946801Z",
     "start_time": "2021-05-17T21:31:48.943910Z"
    }
   },
   "source": [
    "# Eksport otrzymanych DF do plików parquet"
   ]
  },
  {
   "cell_type": "code",
   "execution_count": null,
   "metadata": {
    "ExecuteTime": {
     "end_time": "2021-05-31T20:08:38.672404Z",
     "start_time": "2021-05-31T18:14:01.306Z"
    },
    "scrolled": true
   },
   "outputs": [],
   "source": [
    "df_bus.write.save('df_bus.parquet')"
   ]
  },
  {
   "cell_type": "code",
   "execution_count": null,
   "metadata": {
    "ExecuteTime": {
     "end_time": "2021-05-31T20:08:38.673239Z",
     "start_time": "2021-05-31T18:14:01.685Z"
    }
   },
   "outputs": [],
   "source": [
    "df_tram.write.save('df_tram.parquet')"
   ]
  },
  {
   "cell_type": "code",
   "execution_count": null,
   "metadata": {
    "ExecuteTime": {
     "end_time": "2021-05-31T20:08:38.674276Z",
     "start_time": "2021-05-31T18:14:02.250Z"
    }
   },
   "outputs": [],
   "source": [
    "df_all.write.save('df_all.parquet')"
   ]
  }
 ],
 "metadata": {
  "kernelspec": {
   "display_name": "Python 3",
   "language": "python",
   "name": "python3"
  },
  "language_info": {
   "codemirror_mode": {
    "name": "ipython",
    "version": 3
   },
   "file_extension": ".py",
   "mimetype": "text/x-python",
   "name": "python",
   "nbconvert_exporter": "python",
   "pygments_lexer": "ipython3",
   "version": "3.9.4"
  },
  "toc": {
   "base_numbering": 1,
   "nav_menu": {},
   "number_sections": true,
   "sideBar": true,
   "skip_h1_title": false,
   "title_cell": "Table of Contents",
   "title_sidebar": "Contents",
   "toc_cell": false,
   "toc_position": {},
   "toc_section_display": true,
   "toc_window_display": false
  }
 },
 "nbformat": 4,
 "nbformat_minor": 4
}
